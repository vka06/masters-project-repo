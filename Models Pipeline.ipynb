{
  "nbformat": 4,
  "nbformat_minor": 0,
  "metadata": {
    "colab": {
      "provenance": [],
      "gpuType": "A100"
    },
    "kernelspec": {
      "name": "python3",
      "display_name": "Python 3"
    },
    "language_info": {
      "name": "python"
    },
    "accelerator": "GPU"
  },
  "cells": [
    {
      "cell_type": "code",
      "source": [
        "!pip install transformers"
      ],
      "metadata": {
        "colab": {
          "base_uri": "https://localhost:8080/"
        },
        "id": "-2du9qHtwNIu",
        "outputId": "da3ead0e-cd55-469e-b617-a94282e5b90a"
      },
      "execution_count": 1,
      "outputs": [
        {
          "output_type": "stream",
          "name": "stdout",
          "text": [
            "Requirement already satisfied: transformers in /usr/local/lib/python3.10/dist-packages (4.47.1)\n",
            "Requirement already satisfied: filelock in /usr/local/lib/python3.10/dist-packages (from transformers) (3.16.1)\n",
            "Requirement already satisfied: huggingface-hub<1.0,>=0.24.0 in /usr/local/lib/python3.10/dist-packages (from transformers) (0.27.0)\n",
            "Requirement already satisfied: numpy>=1.17 in /usr/local/lib/python3.10/dist-packages (from transformers) (1.26.4)\n",
            "Requirement already satisfied: packaging>=20.0 in /usr/local/lib/python3.10/dist-packages (from transformers) (24.2)\n",
            "Requirement already satisfied: pyyaml>=5.1 in /usr/local/lib/python3.10/dist-packages (from transformers) (6.0.2)\n",
            "Requirement already satisfied: regex!=2019.12.17 in /usr/local/lib/python3.10/dist-packages (from transformers) (2024.11.6)\n",
            "Requirement already satisfied: requests in /usr/local/lib/python3.10/dist-packages (from transformers) (2.32.3)\n",
            "Requirement already satisfied: tokenizers<0.22,>=0.21 in /usr/local/lib/python3.10/dist-packages (from transformers) (0.21.0)\n",
            "Requirement already satisfied: safetensors>=0.4.1 in /usr/local/lib/python3.10/dist-packages (from transformers) (0.4.5)\n",
            "Requirement already satisfied: tqdm>=4.27 in /usr/local/lib/python3.10/dist-packages (from transformers) (4.67.1)\n",
            "Requirement already satisfied: fsspec>=2023.5.0 in /usr/local/lib/python3.10/dist-packages (from huggingface-hub<1.0,>=0.24.0->transformers) (2024.10.0)\n",
            "Requirement already satisfied: typing-extensions>=3.7.4.3 in /usr/local/lib/python3.10/dist-packages (from huggingface-hub<1.0,>=0.24.0->transformers) (4.12.2)\n",
            "Requirement already satisfied: charset-normalizer<4,>=2 in /usr/local/lib/python3.10/dist-packages (from requests->transformers) (3.4.0)\n",
            "Requirement already satisfied: idna<4,>=2.5 in /usr/local/lib/python3.10/dist-packages (from requests->transformers) (3.10)\n",
            "Requirement already satisfied: urllib3<3,>=1.21.1 in /usr/local/lib/python3.10/dist-packages (from requests->transformers) (2.2.3)\n",
            "Requirement already satisfied: certifi>=2017.4.17 in /usr/local/lib/python3.10/dist-packages (from requests->transformers) (2024.12.14)\n"
          ]
        }
      ]
    },
    {
      "cell_type": "code",
      "source": [
        "from google.colab import drive\n",
        "drive.mount('/content/drive')\n"
      ],
      "metadata": {
        "colab": {
          "base_uri": "https://localhost:8080/"
        },
        "id": "3Pyn411DwoQi",
        "outputId": "37118d45-039b-4056-be7b-03cb1ea38432"
      },
      "execution_count": 2,
      "outputs": [
        {
          "output_type": "stream",
          "name": "stdout",
          "text": [
            "Mounted at /content/drive\n"
          ]
        }
      ]
    },
    {
      "cell_type": "code",
      "source": [
        "from transformers import pipeline, AutoModelForTokenClassification, AutoTokenizer"
      ],
      "metadata": {
        "id": "6Y2GAvePxPVG"
      },
      "execution_count": 3,
      "outputs": []
    },
    {
      "cell_type": "code",
      "source": [
        "# function for easy to use different model\n",
        "def test_ner_model(model_path, text, label_list):\n",
        "    # model and tokenizer\n",
        "    model = AutoModelForTokenClassification.from_pretrained(model_path)\n",
        "    tokenizer = AutoTokenizer.from_pretrained(model_path)\n",
        "\n",
        "    # tokenizer input names to exclude `token_type_ids` (especially for distilBert)\n",
        "    tokenizer.model_input_names = [\"input_ids\", \"attention_mask\"]\n",
        "\n",
        "    # pipeline\n",
        "    ner_pipeline = pipeline(\"ner\", model=model, tokenizer=tokenizer)\n",
        "\n",
        "    # NER pipeline\n",
        "    result = ner_pipeline(text)\n",
        "\n",
        "    # map labels to original names\n",
        "    for entity in result:\n",
        "        entity['entity'] = label_list[int(entity['entity'].split('_')[1])]\n",
        "\n",
        "    return result"
      ],
      "metadata": {
        "id": "ClpCRg79x7Ec"
      },
      "execution_count": 4,
      "outputs": []
    },
    {
      "cell_type": "code",
      "source": [
        "# paths to models\n",
        "model_paths = {\n",
        "    \"BERT\": \"/content/drive/My Drive/NER_Models_upload/bert_model\",\n",
        "    \"DistilBERT\": \"/content/drive/My Drive/NER_Models_upload/distilbert_model\",\n",
        "    \"ALBERT\": \"/content/drive/My Drive/NER_Models_upload/albert_model\",\n",
        "    \"TinyBERT\": \"/content/drive/My Drive/NER_Models_upload/tinybert_model\",\n",
        "}"
      ],
      "metadata": {
        "id": "EtMV432vx9sU"
      },
      "execution_count": 5,
      "outputs": []
    },
    {
      "cell_type": "code",
      "source": [
        "# label list\n",
        "label_list = ['O', 'B-PER', 'I-PER', 'B-ORG', 'I-ORG', 'B-LOC', 'I-LOC', 'B-MISC', 'I-MISC']\n",
        "\n",
        "# input text\n",
        "text = \"Apple is looking at buying U.K. startup for $1 billion\"\n"
      ],
      "metadata": {
        "id": "c37zC7IUyBjc"
      },
      "execution_count": 6,
      "outputs": []
    },
    {
      "cell_type": "code",
      "source": [
        "# test each model\n",
        "for model_name, model_path in model_paths.items():\n",
        "    print(f\"Results for {model_name}:\")\n",
        "    try:\n",
        "        result = test_ner_model(model_path, text, label_list)\n",
        "        print(result)\n",
        "    except Exception as e:\n",
        "        print(f\"Error testing {model_name}: {e}\")\n",
        "    print()"
      ],
      "metadata": {
        "colab": {
          "base_uri": "https://localhost:8080/"
        },
        "id": "hrIRH1e7xBn7",
        "outputId": "17b11d52-d15f-4ba4-ba45-a51b3d7db259"
      },
      "execution_count": 7,
      "outputs": [
        {
          "output_type": "stream",
          "name": "stdout",
          "text": [
            "Results for BERT:\n"
          ]
        },
        {
          "output_type": "stream",
          "name": "stderr",
          "text": [
            "Device set to use cuda:0\n"
          ]
        },
        {
          "output_type": "stream",
          "name": "stdout",
          "text": [
            "[{'entity': 'B-ORG', 'score': 0.9906002, 'index': 1, 'word': 'apple', 'start': 0, 'end': 5}, {'entity': 'O', 'score': 0.99984443, 'index': 2, 'word': 'is', 'start': 6, 'end': 8}, {'entity': 'O', 'score': 0.99983954, 'index': 3, 'word': 'looking', 'start': 9, 'end': 16}, {'entity': 'O', 'score': 0.9998605, 'index': 4, 'word': 'at', 'start': 17, 'end': 19}, {'entity': 'O', 'score': 0.9997925, 'index': 5, 'word': 'buying', 'start': 20, 'end': 26}, {'entity': 'B-LOC', 'score': 0.99812967, 'index': 6, 'word': 'u', 'start': 27, 'end': 28}, {'entity': 'B-LOC', 'score': 0.99800247, 'index': 7, 'word': '.', 'start': 28, 'end': 29}, {'entity': 'B-LOC', 'score': 0.9983407, 'index': 8, 'word': 'k', 'start': 29, 'end': 30}, {'entity': 'B-LOC', 'score': 0.99783164, 'index': 9, 'word': '.', 'start': 30, 'end': 31}, {'entity': 'O', 'score': 0.99778974, 'index': 10, 'word': 'startup', 'start': 32, 'end': 39}, {'entity': 'O', 'score': 0.9998299, 'index': 11, 'word': 'for', 'start': 40, 'end': 43}, {'entity': 'O', 'score': 0.99935037, 'index': 12, 'word': '$', 'start': 44, 'end': 45}, {'entity': 'O', 'score': 0.99973613, 'index': 13, 'word': '1', 'start': 45, 'end': 46}, {'entity': 'O', 'score': 0.99981624, 'index': 14, 'word': 'billion', 'start': 47, 'end': 54}]\n",
            "\n",
            "Results for DistilBERT:\n"
          ]
        },
        {
          "output_type": "stream",
          "name": "stderr",
          "text": [
            "Device set to use cuda:0\n"
          ]
        },
        {
          "output_type": "stream",
          "name": "stdout",
          "text": [
            "[{'entity': 'B-ORG', 'score': 0.9906893, 'index': 1, 'word': 'apple', 'start': 0, 'end': 5}, {'entity': 'O', 'score': 0.99941266, 'index': 2, 'word': 'is', 'start': 6, 'end': 8}, {'entity': 'O', 'score': 0.99960333, 'index': 3, 'word': 'looking', 'start': 9, 'end': 16}, {'entity': 'O', 'score': 0.9996271, 'index': 4, 'word': 'at', 'start': 17, 'end': 19}, {'entity': 'O', 'score': 0.99956816, 'index': 5, 'word': 'buying', 'start': 20, 'end': 26}, {'entity': 'B-LOC', 'score': 0.99762434, 'index': 6, 'word': 'u', 'start': 27, 'end': 28}, {'entity': 'B-LOC', 'score': 0.99733645, 'index': 7, 'word': '.', 'start': 28, 'end': 29}, {'entity': 'B-LOC', 'score': 0.9975604, 'index': 8, 'word': 'k', 'start': 29, 'end': 30}, {'entity': 'B-LOC', 'score': 0.9963606, 'index': 9, 'word': '.', 'start': 30, 'end': 31}, {'entity': 'O', 'score': 0.99854493, 'index': 10, 'word': 'startup', 'start': 32, 'end': 39}, {'entity': 'O', 'score': 0.9995789, 'index': 11, 'word': 'for', 'start': 40, 'end': 43}, {'entity': 'O', 'score': 0.9982754, 'index': 12, 'word': '$', 'start': 44, 'end': 45}, {'entity': 'O', 'score': 0.99939, 'index': 13, 'word': '1', 'start': 45, 'end': 46}, {'entity': 'O', 'score': 0.9995846, 'index': 14, 'word': 'billion', 'start': 47, 'end': 54}]\n",
            "\n",
            "Results for ALBERT:\n"
          ]
        },
        {
          "output_type": "stream",
          "name": "stderr",
          "text": [
            "Device set to use cuda:0\n"
          ]
        },
        {
          "output_type": "stream",
          "name": "stdout",
          "text": [
            "[{'entity': 'B-ORG', 'score': 0.9981371, 'index': 1, 'word': '▁apple', 'start': 0, 'end': 5}, {'entity': 'O', 'score': 0.9998919, 'index': 2, 'word': '▁is', 'start': 6, 'end': 8}, {'entity': 'O', 'score': 0.9999038, 'index': 3, 'word': '▁looking', 'start': 9, 'end': 16}, {'entity': 'O', 'score': 0.9999498, 'index': 4, 'word': '▁at', 'start': 17, 'end': 19}, {'entity': 'O', 'score': 0.9997861, 'index': 5, 'word': '▁buying', 'start': 20, 'end': 26}, {'entity': 'B-LOC', 'score': 0.9553788, 'index': 6, 'word': '▁u', 'start': 27, 'end': 28}, {'entity': 'B-LOC', 'score': 0.9622015, 'index': 7, 'word': '.', 'start': 28, 'end': 29}, {'entity': 'B-LOC', 'score': 0.9614002, 'index': 8, 'word': 'k', 'start': 29, 'end': 30}, {'entity': 'B-LOC', 'score': 0.98456776, 'index': 9, 'word': '.', 'start': 30, 'end': 31}, {'entity': 'O', 'score': 0.9886868, 'index': 10, 'word': '▁startup', 'start': 32, 'end': 39}, {'entity': 'O', 'score': 0.99986815, 'index': 11, 'word': '▁for', 'start': 40, 'end': 43}, {'entity': 'O', 'score': 0.9849396, 'index': 12, 'word': '▁$1', 'start': 44, 'end': 46}, {'entity': 'O', 'score': 0.9994992, 'index': 13, 'word': '▁billion', 'start': 47, 'end': 54}]\n",
            "\n",
            "Results for TinyBERT:\n"
          ]
        },
        {
          "output_type": "stream",
          "name": "stderr",
          "text": [
            "Device set to use cuda:0\n",
            "Asking to truncate to max_length but no maximum length is provided and the model has no predefined maximum length. Default to no truncation.\n"
          ]
        },
        {
          "output_type": "stream",
          "name": "stdout",
          "text": [
            "[{'entity': 'B-ORG', 'score': 0.8463931, 'index': 1, 'word': 'apple', 'start': 0, 'end': 5}, {'entity': 'O', 'score': 0.9868329, 'index': 2, 'word': 'is', 'start': 6, 'end': 8}, {'entity': 'O', 'score': 0.9868693, 'index': 3, 'word': 'looking', 'start': 9, 'end': 16}, {'entity': 'O', 'score': 0.9870237, 'index': 4, 'word': 'at', 'start': 17, 'end': 19}, {'entity': 'O', 'score': 0.98492706, 'index': 5, 'word': 'buying', 'start': 20, 'end': 26}, {'entity': 'B-ORG', 'score': 0.47988045, 'index': 6, 'word': 'u', 'start': 27, 'end': 28}, {'entity': 'B-ORG', 'score': 0.42543676, 'index': 7, 'word': '.', 'start': 28, 'end': 29}, {'entity': 'B-ORG', 'score': 0.52627337, 'index': 8, 'word': 'k', 'start': 29, 'end': 30}, {'entity': 'B-ORG', 'score': 0.56629837, 'index': 9, 'word': '.', 'start': 30, 'end': 31}, {'entity': 'O', 'score': 0.6498156, 'index': 10, 'word': 'startup', 'start': 32, 'end': 39}, {'entity': 'O', 'score': 0.98658895, 'index': 11, 'word': 'for', 'start': 40, 'end': 43}, {'entity': 'O', 'score': 0.98529077, 'index': 12, 'word': '$', 'start': 44, 'end': 45}, {'entity': 'O', 'score': 0.98540163, 'index': 13, 'word': '1', 'start': 45, 'end': 46}, {'entity': 'O', 'score': 0.98487025, 'index': 14, 'word': 'billion', 'start': 47, 'end': 54}]\n",
            "\n"
          ]
        }
      ]
    }
  ]
}